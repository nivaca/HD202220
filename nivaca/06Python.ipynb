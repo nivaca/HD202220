{
 "cells": [
  {
   "cell_type": "markdown",
   "id": "76c70e6f",
   "metadata": {},
   "source": [
    "# Herramientas digitales 2022-20\n",
    "## Texto digital\n",
    "## Introducción a Python\n",
    "## [Nicolás Vaughan](https://posgradosfacartes.uniandes.edu.co/miembro/nicolas-vaughan-caro/)\n",
    "\n",
    "---"
   ]
  },
  {
   "cell_type": "markdown",
   "id": "8507a4ca",
   "metadata": {},
   "source": [
    "# Variables"
   ]
  },
  {
   "cell_type": "markdown",
   "id": "9e57b7b1",
   "metadata": {},
   "source": [
    "<hr/>\n",
    "\n",
    "## Datos simples"
   ]
  },
  {
   "cell_type": "code",
   "execution_count": 240,
   "id": "30d83d23",
   "metadata": {},
   "outputs": [],
   "source": [
    "mi_entero = 23  # números enteros (integer)\n",
    "\n",
    "mi_float = 23.1  # punto flotante (decimales) (float)\n",
    "\n",
    "mi_float2 = 23.0  # punto flotante (decimales) (float)\n",
    "\n",
    "mi_cadena = \"mi texto\"  # cadena (string)\n",
    "\n",
    "mi_cadena2 = 'mi texto'  # cadena (string)\n",
    "\n",
    "mi_bool = False  # booleano\n",
    "\n",
    "mi_bool2 = True  # booleano"
   ]
  },
  {
   "cell_type": "code",
   "execution_count": 241,
   "id": "e697c348",
   "metadata": {},
   "outputs": [
    {
     "name": "stdout",
     "output_type": "stream",
     "text": [
      "mi_entero =\n",
      "23\n",
      "mi_entero = 23\n"
     ]
    }
   ],
   "source": [
    "print(\"mi_entero =\")\n",
    "print(mi_entero)\n",
    "\n",
    "print(\"mi_entero =\", mi_entero)  # podemos separar con comas (,) lo que queremos que se imprima en pantalla"
   ]
  },
  {
   "cell_type": "code",
   "execution_count": 242,
   "id": "dcdb7600",
   "metadata": {},
   "outputs": [
    {
     "name": "stdout",
     "output_type": "stream",
     "text": [
      "mi_entero = 23\n",
      "mi_float = 23.1\n",
      "mi_float2 = 23.0\n",
      "mi_cadena = mi texto\n",
      "mi_bool = False\n",
      "mi_bool2 = True\n"
     ]
    }
   ],
   "source": [
    "print(\"mi_entero =\", mi_entero)\n",
    "print(\"mi_float =\", mi_float)\n",
    "print(\"mi_float2 =\", mi_float2)\n",
    "print(\"mi_cadena =\", mi_cadena)\n",
    "print(\"mi_bool =\", mi_bool)\n",
    "print(\"mi_bool2 =\", mi_bool2)"
   ]
  },
  {
   "cell_type": "code",
   "execution_count": 243,
   "id": "af59a665",
   "metadata": {
    "scrolled": true
   },
   "outputs": [
    {
     "name": "stdout",
     "output_type": "stream",
     "text": [
      "True\n",
      "False\n"
     ]
    }
   ],
   "source": [
    "print(mi_entero == mi_float2)   # el signo '==' es el operador de igualdad\n",
    "                                # no confundir con '=', cuya función es de asignación\n",
    "    \n",
    "print(mi_entero != mi_float2)  # el signo '!=' es el operador de desigualdad"
   ]
  },
  {
   "cell_type": "code",
   "execution_count": 244,
   "id": "8804da58",
   "metadata": {},
   "outputs": [
    {
     "name": "stdout",
     "output_type": "stream",
     "text": [
      "True\n",
      "False\n",
      "La variable mi_entero es de tipo: <class 'int'>\n",
      "La variable mi_float2 es de tipo: <class 'float'>\n"
     ]
    }
   ],
   "source": [
    "print(mi_entero == mi_float2)\n",
    "print(mi_entero is mi_float2)  # el operador \"is\" compara dos objetos (valor y tipo)\n",
    "\n",
    "print(\"La variable mi_entero es de tipo:\", type(mi_entero))\n",
    "print(\"La variable mi_float2 es de tipo:\", type(mi_float2))\n"
   ]
  },
  {
   "cell_type": "code",
   "execution_count": 245,
   "id": "606ca432",
   "metadata": {},
   "outputs": [
    {
     "name": "stdout",
     "output_type": "stream",
     "text": [
      "La variable mi_entero es de tipo: <class 'int'>\n",
      "La variable mi_float2 es de tipo: <class 'float'>\n"
     ]
    }
   ],
   "source": [
    "# Otra forma más \"pythoniana\" de imprimir lo último\n",
    "\n",
    "print(f\"La variable mi_entero es de tipo: {type(mi_entero)}\")\n",
    "print(f\"La variable mi_float2 es de tipo: {type(mi_float2)}\")"
   ]
  },
  {
   "cell_type": "code",
   "execution_count": 246,
   "id": "6d0a121a",
   "metadata": {},
   "outputs": [
    {
     "name": "stdout",
     "output_type": "stream",
     "text": [
      "Mi nombre es Nicolás Vaughan\n",
      "Mi nombre es Nicolás Vaughan\n"
     ]
    }
   ],
   "source": [
    "# Estás son las denominadas \"f-strings\" (una forma de interpolación de valores)\n",
    "# Por ejemplo:\n",
    "\n",
    "nombre = \"Nicolás\"\n",
    "apellido = \"Vaughan\"\n",
    "print(f\"Mi nombre es {nombre} {apellido}\")\n",
    "\n",
    "# O también:\n",
    "mensaje  = f\"Mi nombre es {nombre} {apellido}\"\n",
    "print(mensaje)"
   ]
  },
  {
   "cell_type": "code",
   "execution_count": 247,
   "id": "2a147cc6",
   "metadata": {},
   "outputs": [
    {
     "name": "stdout",
     "output_type": "stream",
     "text": [
      "nombre = 'Nicolás'\n"
     ]
    }
   ],
   "source": [
    "# Otro ejemplo muy útil:\n",
    "print(f\"{nombre = }\")\n",
    "\n",
    "# Para más detalles, cf. https://cheatography.com/brianallan/cheat-sheets/python-f-strings-number-formatting/"
   ]
  },
  {
   "cell_type": "markdown",
   "id": "6d73fb2f",
   "metadata": {},
   "source": [
    "<hr/>\n",
    "\n",
    "## Datos estructurados"
   ]
  },
  {
   "cell_type": "code",
   "execution_count": 248,
   "id": "0d066591",
   "metadata": {},
   "outputs": [],
   "source": [
    "mi_lista = ['primer ítem', 'segundo ítem', 'tercer ítem']  # lista (list)\n",
    "\n",
    "mi_lista2 = [32, 'segundo item', e]  # lista (list)\n",
    "\n",
    "mi_tupla = ('primer ítem', 'segundo ítem')  # tupla (tuple)\n",
    "\n",
    "mi_set = {\"primer ítem\", 23, 1123, 'hola'}  # conjunto (set)\n",
    "\n",
    "mi_dict = {\"curso\" : \"herramientas digitales\", \n",
    "     \"semestre\" : \"2022-20\", \"año\" : 2022, \"horas semanales\" : 3}  # diccionario (dictionary)"
   ]
  },
  {
   "cell_type": "code",
   "execution_count": 249,
   "id": "a206a4b7",
   "metadata": {},
   "outputs": [
    {
     "name": "stdout",
     "output_type": "stream",
     "text": [
      "mi_lista = ['primer ítem', 'segundo ítem', 'tercer ítem']\n",
      "mi_lista2 = [32, 'segundo item', ['primer ítem', 'segundo ítem', 'tercer ítem']]\n",
      "mi_tupla = ('primer ítem', 'segundo ítem')\n",
      "mi_set = {1123, 'hola', 'primer ítem', 23}\n",
      "mi_dict = {'curso': 'herramientas digitales', 'semestre': '2022-20', 'año': 2022, 'horas semanales': 3}\n"
     ]
    }
   ],
   "source": [
    "print(f\"{mi_lista = }\")\n",
    "\n",
    "print(f\"{mi_lista2 = }\")\n",
    "\n",
    "print(f\"{mi_tupla = }\")\n",
    "\n",
    "print(f\"{mi_set = }\")\n",
    "\n",
    "print(f\"{mi_dict = }\")\n"
   ]
  },
  {
   "cell_type": "markdown",
   "id": "24517bb8",
   "metadata": {},
   "source": [
    "#### Indexación\n",
    "##### OJO: En Python el primer ítem de una colección siempre lleva el subíndice 0.\n",
    "##### (Python es un \"0-base language\")"
   ]
  },
  {
   "cell_type": "code",
   "execution_count": 250,
   "id": "b2a80b10",
   "metadata": {},
   "outputs": [
    {
     "name": "stdout",
     "output_type": "stream",
     "text": [
      "mi_lista[0] = 'primer ítem'\n",
      "mi_lista2[2] = ['primer ítem', 'segundo ítem', 'tercer ítem']\n",
      "mi_tupla[1] = 'segundo ítem'\n"
     ]
    }
   ],
   "source": [
    "print(f\"{mi_lista[0] = }\")\n",
    "\n",
    "print(f\"{mi_lista2[2] = }\")\n",
    "\n",
    "print(f\"{mi_tupla[1] = }\")"
   ]
  },
  {
   "cell_type": "code",
   "execution_count": 251,
   "id": "2201b0a9",
   "metadata": {},
   "outputs": [
    {
     "ename": "TypeError",
     "evalue": "'set' object is not subscriptable",
     "output_type": "error",
     "traceback": [
      "\u001b[0;31m---------------------------------------------------------------------------\u001b[0m",
      "\u001b[0;31mTypeError\u001b[0m                                 Traceback (most recent call last)",
      "Cell \u001b[0;32mIn [251], line 1\u001b[0m\n\u001b[0;32m----> 1\u001b[0m \u001b[38;5;28mprint\u001b[39m(\u001b[43mmi_set\u001b[49m\u001b[43m[\u001b[49m\u001b[38;5;241;43m0\u001b[39;49m\u001b[43m]\u001b[49m)\n",
      "\u001b[0;31mTypeError\u001b[0m: 'set' object is not subscriptable"
     ]
    }
   ],
   "source": [
    "print(mi_set[0])  # ojo con este error: los conjuntos no son indizables"
   ]
  },
  {
   "cell_type": "code",
   "execution_count": null,
   "id": "98f6f8af",
   "metadata": {
    "scrolled": true
   },
   "outputs": [],
   "source": [
    "print(mi_dict[0])  # ojo con este error: los diccionarios no son indizables"
   ]
  },
  {
   "cell_type": "code",
   "execution_count": null,
   "id": "09925915",
   "metadata": {
    "scrolled": true
   },
   "outputs": [],
   "source": [
    "# Pero esto sí se puede en los diccioanarios:\n",
    "print(mi_dict[\"semestre\"])"
   ]
  },
  {
   "cell_type": "markdown",
   "id": "4be75b64",
   "metadata": {},
   "source": [
    "### Resumen de datos estructurados\n",
    "\n",
    "- Una **lista** es una colección ordenada y modificable. Admite miembros duplicados.\n",
    "- Una **tupla** es una colección ordenada y *no* es modificable. Permite miembros duplicados.\n",
    "- Un **conjunto** es una colección *no* ordenada, *no* modificable y *no* indexada. *No* permite miembros duplicados.\n",
    "- Un **diccionario** es una colección ordenada y modificable. *No* permite miembros duplicados."
   ]
  },
  {
   "cell_type": "code",
   "execution_count": null,
   "id": "b71c89f6",
   "metadata": {},
   "outputs": [],
   "source": [
    "mi_lista = [3.14, 3.14, 3.14]\n",
    "print(mi_lista)"
   ]
  },
  {
   "cell_type": "code",
   "execution_count": null,
   "id": "3aded18c",
   "metadata": {},
   "outputs": [],
   "source": [
    "mi_lista[2] = 0  # modificamos el tercer ítem de la lista\n",
    "print(mi_lista)"
   ]
  },
  {
   "cell_type": "code",
   "execution_count": null,
   "id": "f14f5bf1",
   "metadata": {},
   "outputs": [],
   "source": [
    "mi_tupla = (3.14, 3.14, 3.14)\n",
    "print(mi_tupla)"
   ]
  },
  {
   "cell_type": "code",
   "execution_count": null,
   "id": "9a73c6f4",
   "metadata": {},
   "outputs": [],
   "source": [
    "mi_tupla[2] = 0  # intentamos modificar el tercer ítem de la lista. ¡Error!"
   ]
  },
  {
   "cell_type": "code",
   "execution_count": null,
   "id": "2ceebdb2",
   "metadata": {},
   "outputs": [],
   "source": [
    "mi_conjunto = {4, 4, 4, 4, 4, 4}\n",
    "print(mi_conjunto)"
   ]
  },
  {
   "cell_type": "code",
   "execution_count": null,
   "id": "343eed04",
   "metadata": {},
   "outputs": [],
   "source": [
    "mi_conjunto = {2, 6543, 0, 123}\n",
    "print(mi_conjunto)  # esto es lo que quiere decir \"no ordenada\""
   ]
  },
  {
   "cell_type": "code",
   "execution_count": null,
   "id": "ab1f2dbf",
   "metadata": {},
   "outputs": [],
   "source": [
    "mi_dict = {\"perro\" : \"Lassie\", \"perro\" : \"Pluto\"}\n",
    "print(mi_dict)  # las \"llaves\" (keys) deben ser únicas"
   ]
  },
  {
   "cell_type": "code",
   "execution_count": null,
   "id": "1dc4dd8c",
   "metadata": {},
   "outputs": [],
   "source": [
    "print(mi_dict[\"perro\"])"
   ]
  },
  {
   "cell_type": "markdown",
   "id": "2d6a539d",
   "metadata": {},
   "source": [
    "<hr/>\n",
    "\n",
    "# Bucles `for`"
   ]
  },
  {
   "cell_type": "code",
   "execution_count": null,
   "id": "cc07ee0a",
   "metadata": {},
   "outputs": [],
   "source": [
    "mi_lista = [3, 43, 1, 234234, 3.141516, \"hola\", \"manzana\", False]\n",
    "\n",
    "for i in mi_lista:\n",
    "    print(i)  # ¡Ojo con el sangrado!"
   ]
  },
  {
   "cell_type": "markdown",
   "id": "6a1e57c8",
   "metadata": {},
   "source": [
    "### El iterador `range()`"
   ]
  },
  {
   "cell_type": "code",
   "execution_count": 252,
   "id": "a1466fd2",
   "metadata": {},
   "outputs": [
    {
     "name": "stdout",
     "output_type": "stream",
     "text": [
      "0\n",
      "1\n",
      "2\n",
      "3\n",
      "4\n",
      "5\n",
      "6\n",
      "7\n",
      "8\n",
      "9\n"
     ]
    }
   ],
   "source": [
    "for i in range(10):\n",
    "    print(i)"
   ]
  },
  {
   "cell_type": "code",
   "execution_count": 253,
   "id": "8c0f7a96",
   "metadata": {},
   "outputs": [
    {
     "name": "stdout",
     "output_type": "stream",
     "text": [
      "Help on class range in module builtins:\n",
      "\n",
      "class range(object)\n",
      " |  range(stop) -> range object\n",
      " |  range(start, stop[, step]) -> range object\n",
      " |  \n",
      " |  Return an object that produces a sequence of integers from start (inclusive)\n",
      " |  to stop (exclusive) by step.  range(i, j) produces i, i+1, i+2, ..., j-1.\n",
      " |  start defaults to 0, and stop is omitted!  range(4) produces 0, 1, 2, 3.\n",
      " |  These are exactly the valid indices for a list of 4 elements.\n",
      " |  When step is given, it specifies the increment (or decrement).\n",
      " |  \n",
      " |  Methods defined here:\n",
      " |  \n",
      " |  __bool__(self, /)\n",
      " |      True if self else False\n",
      " |  \n",
      " |  __contains__(self, key, /)\n",
      " |      Return key in self.\n",
      " |  \n",
      " |  __eq__(self, value, /)\n",
      " |      Return self==value.\n",
      " |  \n",
      " |  __ge__(self, value, /)\n",
      " |      Return self>=value.\n",
      " |  \n",
      " |  __getattribute__(self, name, /)\n",
      " |      Return getattr(self, name).\n",
      " |  \n",
      " |  __getitem__(self, key, /)\n",
      " |      Return self[key].\n",
      " |  \n",
      " |  __gt__(self, value, /)\n",
      " |      Return self>value.\n",
      " |  \n",
      " |  __hash__(self, /)\n",
      " |      Return hash(self).\n",
      " |  \n",
      " |  __iter__(self, /)\n",
      " |      Implement iter(self).\n",
      " |  \n",
      " |  __le__(self, value, /)\n",
      " |      Return self<=value.\n",
      " |  \n",
      " |  __len__(self, /)\n",
      " |      Return len(self).\n",
      " |  \n",
      " |  __lt__(self, value, /)\n",
      " |      Return self<value.\n",
      " |  \n",
      " |  __ne__(self, value, /)\n",
      " |      Return self!=value.\n",
      " |  \n",
      " |  __reduce__(...)\n",
      " |      Helper for pickle.\n",
      " |  \n",
      " |  __repr__(self, /)\n",
      " |      Return repr(self).\n",
      " |  \n",
      " |  __reversed__(...)\n",
      " |      Return a reverse iterator.\n",
      " |  \n",
      " |  count(...)\n",
      " |      rangeobject.count(value) -> integer -- return number of occurrences of value\n",
      " |  \n",
      " |  index(...)\n",
      " |      rangeobject.index(value) -> integer -- return index of value.\n",
      " |      Raise ValueError if the value is not present.\n",
      " |  \n",
      " |  ----------------------------------------------------------------------\n",
      " |  Static methods defined here:\n",
      " |  \n",
      " |  __new__(*args, **kwargs) from builtins.type\n",
      " |      Create and return a new object.  See help(type) for accurate signature.\n",
      " |  \n",
      " |  ----------------------------------------------------------------------\n",
      " |  Data descriptors defined here:\n",
      " |  \n",
      " |  start\n",
      " |  \n",
      " |  step\n",
      " |  \n",
      " |  stop\n",
      "\n"
     ]
    }
   ],
   "source": [
    "help(\"range\")"
   ]
  },
  {
   "cell_type": "code",
   "execution_count": 254,
   "id": "4753412b",
   "metadata": {},
   "outputs": [
    {
     "name": "stdout",
     "output_type": "stream",
     "text": [
      "1\n",
      "2\n",
      "3\n",
      "4\n",
      "5\n",
      "6\n",
      "7\n",
      "8\n",
      "9\n"
     ]
    }
   ],
   "source": [
    "for i in range(1, 10):\n",
    "    print(i)"
   ]
  },
  {
   "cell_type": "code",
   "execution_count": 255,
   "id": "35e2517e",
   "metadata": {},
   "outputs": [
    {
     "name": "stdout",
     "output_type": "stream",
     "text": [
      "1\n",
      "3\n",
      "5\n",
      "7\n",
      "9\n"
     ]
    }
   ],
   "source": [
    "for i in range(1, 10, 2):\n",
    "    print(i)"
   ]
  },
  {
   "cell_type": "markdown",
   "id": "c2f2e223",
   "metadata": {},
   "source": [
    "<hr/>\n",
    "\n",
    "# Condicionales `if`"
   ]
  },
  {
   "cell_type": "code",
   "execution_count": 256,
   "id": "4573817e",
   "metadata": {},
   "outputs": [
    {
     "ename": "KeyboardInterrupt",
     "evalue": "Interrupted by user",
     "output_type": "error",
     "traceback": [
      "\u001b[0;31m---------------------------------------------------------------------------\u001b[0m",
      "\u001b[0;31mKeyboardInterrupt\u001b[0m                         Traceback (most recent call last)",
      "Cell \u001b[0;32mIn [256], line 1\u001b[0m\n\u001b[0;32m----> 1\u001b[0m a \u001b[38;5;241m=\u001b[39m \u001b[38;5;28;43minput\u001b[39;49m\u001b[43m(\u001b[49m\u001b[38;5;124;43m\"\u001b[39;49m\u001b[38;5;124;43mEdad: \u001b[39;49m\u001b[38;5;124;43m\"\u001b[39;49m\u001b[43m)\u001b[49m\n\u001b[1;32m      2\u001b[0m \u001b[38;5;28;01mif\u001b[39;00m a \u001b[38;5;241m>\u001b[39m\u001b[38;5;241m=\u001b[39m \u001b[38;5;241m18\u001b[39m:\n\u001b[1;32m      3\u001b[0m     \u001b[38;5;28mprint\u001b[39m(\u001b[38;5;124m\"\u001b[39m\u001b[38;5;124mUsted ya puede votar.\u001b[39m\u001b[38;5;124m\"\u001b[39m)\n",
      "File \u001b[0;32m~/.local/pipx/venvs/jupyter/lib64/python3.10/site-packages/ipykernel/kernelbase.py:1177\u001b[0m, in \u001b[0;36mKernel.raw_input\u001b[0;34m(self, prompt)\u001b[0m\n\u001b[1;32m   1173\u001b[0m \u001b[38;5;28;01mif\u001b[39;00m \u001b[38;5;129;01mnot\u001b[39;00m \u001b[38;5;28mself\u001b[39m\u001b[38;5;241m.\u001b[39m_allow_stdin:\n\u001b[1;32m   1174\u001b[0m     \u001b[38;5;28;01mraise\u001b[39;00m StdinNotImplementedError(\n\u001b[1;32m   1175\u001b[0m         \u001b[38;5;124m\"\u001b[39m\u001b[38;5;124mraw_input was called, but this frontend does not support input requests.\u001b[39m\u001b[38;5;124m\"\u001b[39m\n\u001b[1;32m   1176\u001b[0m     )\n\u001b[0;32m-> 1177\u001b[0m \u001b[38;5;28;01mreturn\u001b[39;00m \u001b[38;5;28;43mself\u001b[39;49m\u001b[38;5;241;43m.\u001b[39;49m\u001b[43m_input_request\u001b[49m\u001b[43m(\u001b[49m\n\u001b[1;32m   1178\u001b[0m \u001b[43m    \u001b[49m\u001b[38;5;28;43mstr\u001b[39;49m\u001b[43m(\u001b[49m\u001b[43mprompt\u001b[49m\u001b[43m)\u001b[49m\u001b[43m,\u001b[49m\n\u001b[1;32m   1179\u001b[0m \u001b[43m    \u001b[49m\u001b[38;5;28;43mself\u001b[39;49m\u001b[38;5;241;43m.\u001b[39;49m\u001b[43m_parent_ident\u001b[49m\u001b[43m[\u001b[49m\u001b[38;5;124;43m\"\u001b[39;49m\u001b[38;5;124;43mshell\u001b[39;49m\u001b[38;5;124;43m\"\u001b[39;49m\u001b[43m]\u001b[49m\u001b[43m,\u001b[49m\n\u001b[1;32m   1180\u001b[0m \u001b[43m    \u001b[49m\u001b[38;5;28;43mself\u001b[39;49m\u001b[38;5;241;43m.\u001b[39;49m\u001b[43mget_parent\u001b[49m\u001b[43m(\u001b[49m\u001b[38;5;124;43m\"\u001b[39;49m\u001b[38;5;124;43mshell\u001b[39;49m\u001b[38;5;124;43m\"\u001b[39;49m\u001b[43m)\u001b[49m\u001b[43m,\u001b[49m\n\u001b[1;32m   1181\u001b[0m \u001b[43m    \u001b[49m\u001b[43mpassword\u001b[49m\u001b[38;5;241;43m=\u001b[39;49m\u001b[38;5;28;43;01mFalse\u001b[39;49;00m\u001b[43m,\u001b[49m\n\u001b[1;32m   1182\u001b[0m \u001b[43m\u001b[49m\u001b[43m)\u001b[49m\n",
      "File \u001b[0;32m~/.local/pipx/venvs/jupyter/lib64/python3.10/site-packages/ipykernel/kernelbase.py:1219\u001b[0m, in \u001b[0;36mKernel._input_request\u001b[0;34m(self, prompt, ident, parent, password)\u001b[0m\n\u001b[1;32m   1216\u001b[0m             \u001b[38;5;28;01mbreak\u001b[39;00m\n\u001b[1;32m   1217\u001b[0m \u001b[38;5;28;01mexcept\u001b[39;00m \u001b[38;5;167;01mKeyboardInterrupt\u001b[39;00m:\n\u001b[1;32m   1218\u001b[0m     \u001b[38;5;66;03m# re-raise KeyboardInterrupt, to truncate traceback\u001b[39;00m\n\u001b[0;32m-> 1219\u001b[0m     \u001b[38;5;28;01mraise\u001b[39;00m \u001b[38;5;167;01mKeyboardInterrupt\u001b[39;00m(\u001b[38;5;124m\"\u001b[39m\u001b[38;5;124mInterrupted by user\u001b[39m\u001b[38;5;124m\"\u001b[39m) \u001b[38;5;28;01mfrom\u001b[39;00m \u001b[38;5;28mNone\u001b[39m\n\u001b[1;32m   1220\u001b[0m \u001b[38;5;28;01mexcept\u001b[39;00m \u001b[38;5;167;01mException\u001b[39;00m:\n\u001b[1;32m   1221\u001b[0m     \u001b[38;5;28mself\u001b[39m\u001b[38;5;241m.\u001b[39mlog\u001b[38;5;241m.\u001b[39mwarning(\u001b[38;5;124m\"\u001b[39m\u001b[38;5;124mInvalid Message:\u001b[39m\u001b[38;5;124m\"\u001b[39m, exc_info\u001b[38;5;241m=\u001b[39m\u001b[38;5;28;01mTrue\u001b[39;00m)\n",
      "\u001b[0;31mKeyboardInterrupt\u001b[0m: Interrupted by user"
     ]
    }
   ],
   "source": [
    "a = input(\"Edad: \")\n",
    "if a >= 18:\n",
    "    print(\"Usted ya puede votar.\")\n",
    "else:\n",
    "    print(\"Usted aún no puede votar.\")"
   ]
  },
  {
   "cell_type": "code",
   "execution_count": null,
   "id": "866e8c41",
   "metadata": {},
   "outputs": [],
   "source": [
    "a = input(\"Edad: \")\n",
    "edad = int(a)  # la función int() convierte otro tipo de valor (e.g. una cadena) en un entero.\n",
    "if edad >= 18:\n",
    "    print(\"Usted ya puede votar.\")\n",
    "else:\n",
    "    print(\"Usted aún no puede votar.\")"
   ]
  },
  {
   "cell_type": "code",
   "execution_count": null,
   "id": "76579a62",
   "metadata": {},
   "outputs": [],
   "source": [
    "a = input(\"Escoja entre: (1) café, (2) chocolate o (3) whiskey: \")\n",
    "if a == \"1\":\n",
    "    print(\"¡Ya sale un cafecito calientito!\")\n",
    "elif a == \"2\":\n",
    "    print(\"¡Ya sale un chocolate con clavos y canela!\")\n",
    "elif a == \"3\":\n",
    "    print(\"¡Ya sale un whiskey en las rocas!\")\n",
    "else: \n",
    "    print(\"¡Error: la opción no es válida!\")"
   ]
  },
  {
   "cell_type": "code",
   "execution_count": null,
   "id": "24f1256d",
   "metadata": {
    "scrolled": true
   },
   "outputs": [],
   "source": [
    "a = input(\"Escoja entre: (1) café, (2) chocolate o (3) whiskey: \")\n",
    "if int(a) > 3 or int(a) < 1:\n",
    "    print(\"¡Error: la opción no es válida!\")\n",
    "    \n",
    "# Operadores lógicos: or, and, not"
   ]
  },
  {
   "cell_type": "code",
   "execution_count": null,
   "id": "26466559",
   "metadata": {},
   "outputs": [],
   "source": [
    "opciones = [1, 2, 3]\n",
    "\n",
    "a = input(\"Escoja entre: (1) café, (2) chocolate o (3) whiskey: \")\n",
    "\n",
    "valor = int(a)\n",
    "\n",
    "if valor in opciones:\n",
    "    print(\"Opción válida 👍\")\n",
    "else:\n",
    "    print(\"Error: opción inválida 👎\")"
   ]
  },
  {
   "cell_type": "code",
   "execution_count": null,
   "id": "7c180ff6",
   "metadata": {},
   "outputs": [],
   "source": [
    "opciones = {1 : \"café\", 2 : \"chocolate\", 3 : \"whiskey\"}\n",
    "\n",
    "a = input(\"Escoja entre: (1) café, (2) chocolate o (3) whiskey: \")\n",
    "\n",
    "valor = int(a)\n",
    "\n",
    "if valor in opciones:\n",
    "    print(\"Opción válida 👍\")\n",
    "else:\n",
    "    print(\"Error: opción inválida 👎\")"
   ]
  },
  {
   "cell_type": "code",
   "execution_count": null,
   "id": "eb9f8028",
   "metadata": {},
   "outputs": [],
   "source": [
    "print(opciones)"
   ]
  },
  {
   "cell_type": "code",
   "execution_count": null,
   "id": "f95e100d",
   "metadata": {},
   "outputs": [],
   "source": [
    "for i in opciones:\n",
    "    print(i)"
   ]
  },
  {
   "cell_type": "markdown",
   "id": "d3b712df",
   "metadata": {},
   "source": [
    "<hr/>\n",
    "\n",
    "## Cadenas"
   ]
  },
  {
   "cell_type": "code",
   "execution_count": null,
   "id": "3885e5fd",
   "metadata": {},
   "outputs": [],
   "source": [
    "a = input(\"Escoja entre: café, chocolate o whiskey: \")\n",
    "if a == \"café\":\n",
    "    print(\"¡Ya sale un cafecito calientito!\")\n",
    "elif a == \"chocolate\":\n",
    "    print(\"¡Ya sale un chocolate con clavos y canela!\")\n",
    "elif a == \"whiskey\":\n",
    "    print(\"¡Ya sale un whiskey en las rocas!\")\n",
    "else: \n",
    "    print(\"¡Error: la opción no es válida!\")"
   ]
  },
  {
   "cell_type": "markdown",
   "id": "369bbc2e",
   "metadata": {},
   "source": [
    "<hr/>\n",
    "\n",
    "## Mayúsculas y minúsculas"
   ]
  },
  {
   "cell_type": "code",
   "execution_count": null,
   "id": "e15d0c44",
   "metadata": {},
   "outputs": [],
   "source": [
    "a = input(\"Escoja entre: café, chocolate o whiskey: \")\n",
    "if a == \"café\" or a == \"Café\" or a == \"CAFÉ\":\n",
    "    print(\"¡Ya sale un cafecito calientito!\")"
   ]
  },
  {
   "cell_type": "markdown",
   "id": "b6ae5b5c",
   "metadata": {},
   "source": [
    "#### Métodos de cadenas\n",
    "- https://docs.python.org/3/library/stdtypes.html#string-methods\n",
    "- https://www.w3schools.com/python/python_ref_string.asp"
   ]
  },
  {
   "cell_type": "code",
   "execution_count": null,
   "id": "91eb593c",
   "metadata": {},
   "outputs": [],
   "source": [
    "a = input(\"Escoja entre: café, chocolate o whiskey: \")\n",
    "respuesta = a.lower()\n",
    "print(f\"{respuesta = }\")\n",
    "if respuesta == \"café\":\n",
    "    print(\"¡Ya sale un cafecito calientito!\")"
   ]
  },
  {
   "cell_type": "code",
   "execution_count": null,
   "id": "9f192b6e",
   "metadata": {},
   "outputs": [],
   "source": [
    "# también:\n",
    "a = input(\"Escoja entre: café, chocolate o whiskey: \")\n",
    "if a.lower() == \"café\":\n",
    "    print(\"¡Ya sale un cafecito calientito!\")"
   ]
  },
  {
   "cell_type": "code",
   "execution_count": null,
   "id": "9d0e1ed0",
   "metadata": {},
   "outputs": [],
   "source": [
    "# o también:\n",
    "a = input(\"Escoja entre: café, chocolate o whiskey: \").lower()\n",
    "if a == \"café\":\n",
    "    print(\"¡Ya sale un cafecito calientito!\")"
   ]
  },
  {
   "cell_type": "markdown",
   "id": "c19b1214",
   "metadata": {},
   "source": [
    "<hr/>\n",
    "\n",
    "## Caracteres y cadenas"
   ]
  },
  {
   "cell_type": "code",
   "execution_count": null,
   "id": "8ff1820a",
   "metadata": {},
   "outputs": [],
   "source": [
    "a = \"abcdefgh\"\n",
    "for i in a:\n",
    "    print(i)"
   ]
  },
  {
   "cell_type": "markdown",
   "id": "776edf80",
   "metadata": {},
   "source": [
    "![slicing](img/slicing.png)"
   ]
  },
  {
   "cell_type": "code",
   "execution_count": null,
   "id": "2c355dac",
   "metadata": {},
   "outputs": [],
   "source": [
    "a = \"Hola, mundo!\"\n",
    "print(a[0:2])  # rebanadas (slices)"
   ]
  },
  {
   "cell_type": "code",
   "execution_count": null,
   "id": "fbc9afbd",
   "metadata": {},
   "outputs": [],
   "source": [
    "print(a[3:])"
   ]
  },
  {
   "cell_type": "code",
   "execution_count": null,
   "id": "e588395d",
   "metadata": {},
   "outputs": [],
   "source": [
    "print(a[-1])"
   ]
  },
  {
   "cell_type": "code",
   "execution_count": null,
   "id": "5c75cba7",
   "metadata": {},
   "outputs": [],
   "source": [
    "largo = len(a)\n",
    "print(largo)"
   ]
  },
  {
   "cell_type": "code",
   "execution_count": null,
   "id": "4dd42d58",
   "metadata": {},
   "outputs": [],
   "source": [
    "print(a[-largo:])"
   ]
  },
  {
   "cell_type": "code",
   "execution_count": null,
   "id": "57b5a2d7",
   "metadata": {},
   "outputs": [],
   "source": [
    "print(a[9:0])"
   ]
  },
  {
   "cell_type": "code",
   "execution_count": null,
   "id": "4ff5a4f1",
   "metadata": {},
   "outputs": [],
   "source": [
    "print(a[:])"
   ]
  },
  {
   "cell_type": "code",
   "execution_count": null,
   "id": "f9b57958",
   "metadata": {},
   "outputs": [],
   "source": [
    "a = \"¡Hola, mundo!\"\n",
    "b = a\n",
    "print(a, b)\n",
    "a = \"¡Adiós!\"\n",
    "print(a, b)"
   ]
  },
  {
   "cell_type": "code",
   "execution_count": null,
   "id": "9609dde3",
   "metadata": {},
   "outputs": [],
   "source": [
    "a = \"¡Hola, mundo!\"\n",
    "for i in range(len(a)):\n",
    "    print(a[i])"
   ]
  },
  {
   "cell_type": "code",
   "execution_count": null,
   "id": "6b0f0437",
   "metadata": {},
   "outputs": [],
   "source": [
    "help(\"print\")"
   ]
  },
  {
   "cell_type": "code",
   "execution_count": null,
   "id": "b4fadf7c",
   "metadata": {},
   "outputs": [],
   "source": [
    "for i in range(len(a)):\n",
    "    print(a[i], end = \"_\")"
   ]
  },
  {
   "cell_type": "code",
   "execution_count": null,
   "id": "fff34ce2",
   "metadata": {},
   "outputs": [],
   "source": [
    "for i in range(len(a)):\n",
    "    print(a[i], end = \"\")"
   ]
  },
  {
   "cell_type": "code",
   "execution_count": null,
   "id": "5b9c67b5",
   "metadata": {},
   "outputs": [],
   "source": [
    "for i in range(len(a), 0, -1):\n",
    "    print(i)"
   ]
  },
  {
   "cell_type": "code",
   "execution_count": null,
   "id": "02ef6aa0",
   "metadata": {},
   "outputs": [],
   "source": [
    "for i in range(len(a), 0, -1):   # ¿Dónde está el error?\n",
    "    print(a[i], end=\"\")"
   ]
  },
  {
   "cell_type": "code",
   "execution_count": null,
   "id": "4126080f",
   "metadata": {},
   "outputs": [],
   "source": [
    "primero = \"Nicolás\"\n",
    "segundo = \"Vaughan\"\n",
    "todo = \"Nicolás\" + \"Vaughan\"  # concatenación\n",
    "print(todo)"
   ]
  },
  {
   "cell_type": "code",
   "execution_count": null,
   "id": "9ee83a86",
   "metadata": {},
   "outputs": [],
   "source": [
    "todo = \"Nicolás\" + \" \" + \"Vaughan\"  # concatenación\n",
    "print(todo)"
   ]
  },
  {
   "cell_type": "code",
   "execution_count": null,
   "id": "9bbf0fba",
   "metadata": {},
   "outputs": [],
   "source": [
    "# cadenas multilíneas\n",
    "\n",
    "quijote = \"\"\"\n",
    "En un lugar de la Mancha, de cuyo nombre no quiero acordarme, no ha\n",
    "mucho tiempo que vivía un hidalgo de los de lanza en astillero, adarga\n",
    "antigua, rocín flaco y galgo corredor. Una olla de algo más vaca que\n",
    "carnero, salpicón las más noches, duelos y quebrantos los sábados,\n",
    "lantejas los viernes, algún palomino de añadidura los domingos,\n",
    "consumían las tres partes de su hacienda. El resto della concluían\n",
    "sayo de velarte, calzas de velludo para las fiestas, con sus pantuflos\n",
    "de lo mesmo, y los días de entresemana se honraba con su vellorí de lo\n",
    "más fino. Tenía en su casa una ama que pasaba de los cuarenta, y una\n",
    "sobrina que no llegaba a los veinte, y un mozo de campo y plaza, que\n",
    "así ensillaba el rocín como tomaba la podadera. Frisaba la edad de\n",
    "nuestro hidalgo con los cincuenta años; era de complexión recia, seco\n",
    "de carnes, enjuto de rostro, gran madrugador y amigo de la\n",
    "caza. Quieren decir que tenía el sobrenombre de Quijada, o Quesada,\n",
    "que en esto hay alguna diferencia en los autores que deste caso\n",
    "escriben; aunque por conjeturas verosímiles se deja entender que se\n",
    "llamaba Quijana. Pero esto importa poco a nuestro cuento: basta que en\n",
    "la narración dél no se salga un punto de la verdad.\n",
    "\"\"\"\n",
    "\n",
    "print(quijote)"
   ]
  },
  {
   "cell_type": "code",
   "execution_count": null,
   "id": "b2c70154",
   "metadata": {},
   "outputs": [],
   "source": [
    "print(len(quijote))"
   ]
  },
  {
   "cell_type": "code",
   "execution_count": null,
   "id": "65bcc4a3",
   "metadata": {},
   "outputs": [],
   "source": [
    "lista_quijote = quijote.split()\n",
    "print(lista_quijote)"
   ]
  },
  {
   "cell_type": "code",
   "execution_count": null,
   "id": "2fbebc01",
   "metadata": {},
   "outputs": [],
   "source": [
    "print(len(lista_quijote))"
   ]
  },
  {
   "cell_type": "code",
   "execution_count": null,
   "id": "68067619",
   "metadata": {},
   "outputs": [],
   "source": [
    "help(\"str.split\")"
   ]
  },
  {
   "cell_type": "code",
   "execution_count": null,
   "id": "eb601c0f",
   "metadata": {},
   "outputs": [],
   "source": [
    "print(quijote.split(sep=\" \"))"
   ]
  },
  {
   "cell_type": "code",
   "execution_count": null,
   "id": "dcca40d9",
   "metadata": {},
   "outputs": [],
   "source": [
    "print(quijote.split(sep=\"a\"))"
   ]
  },
  {
   "cell_type": "code",
   "execution_count": null,
   "id": "68e1c2dd",
   "metadata": {},
   "outputs": [],
   "source": [
    "if \"Mancha\" in quijote:\n",
    "    print(\"'Mancha' está en el Quijote\")\n",
    "else:\n",
    "    print(\"'Mancha' *no* está en el Quijote\")\n",
    "    \n",
    "if \"Quijote\" in quijote:\n",
    "    print(\"'Quijote' está en el Quijote\")\n",
    "else:\n",
    "    print(\"'Quijote' *no* está en el Quijote\")"
   ]
  },
  {
   "cell_type": "markdown",
   "id": "a6261b00",
   "metadata": {},
   "source": [
    "<hr/>\n",
    "\n",
    "## Funciones"
   ]
  },
  {
   "cell_type": "code",
   "execution_count": null,
   "id": "05120319",
   "metadata": {},
   "outputs": [],
   "source": [
    "def estar_en(palabra, texto):\n",
    "    if palabra in texto:\n",
    "        print(f\"La palabra {palabra} está en el texto.\")\n",
    "    else:\n",
    "        print(f\"La palabra {palabra} *no* está en el texto.\")\n",
    "        \n",
    "estar_en(\"Quijote\", quijote)\n",
    "estar_en(\"Mancha\", quijote)"
   ]
  },
  {
   "cell_type": "code",
   "execution_count": null,
   "id": "079f2ead",
   "metadata": {},
   "outputs": [],
   "source": [
    "# más correctamente, usando tipos de variables\n",
    "# cf. https://docs.python.org/3/library/typing.html\n",
    "\n",
    "def estar_en(palabra: str, texto: str) -> None:\n",
    "    if palabra in texto:\n",
    "        print(f\"La palabra {palabra} está en el texto.\")\n",
    "    else:\n",
    "        print(f\"La palabra {palabra} *no* está en el texto.\")\n",
    "        \n",
    "estar_en(\"Quijote\", quijote)\n",
    "estar_en(\"Mancha\", quijote)"
   ]
  },
  {
   "cell_type": "code",
   "execution_count": null,
   "id": "79dfade9",
   "metadata": {},
   "outputs": [],
   "source": [
    "def invertir(entrada: str) -> str:\n",
    "    largo = len(entrada)\n",
    "    salida = \"\"\n",
    "    for i in range(largo-1, -1, -1):\n",
    "        salida = salida + entrada[i]\n",
    "    return salida"
   ]
  },
  {
   "cell_type": "code",
   "execution_count": null,
   "id": "0b562ab4",
   "metadata": {},
   "outputs": [],
   "source": [
    "print(invertir(\"hola\"))"
   ]
  },
  {
   "cell_type": "code",
   "execution_count": null,
   "id": "72fcf75a",
   "metadata": {},
   "outputs": [],
   "source": [
    "print(invertir(quijote))"
   ]
  },
  {
   "cell_type": "code",
   "execution_count": null,
   "id": "a0f5d1ee",
   "metadata": {},
   "outputs": [],
   "source": [
    "# Más fácil con rebanadas:\n",
    "print(\"hola\"[::-1])"
   ]
  },
  {
   "cell_type": "markdown",
   "id": "1a8256e9",
   "metadata": {},
   "source": [
    "## Sintaxis de las rebanadas\n",
    "\n",
    "```\n",
    "<inicio>:<fin>:<salto>\n",
    "```"
   ]
  },
  {
   "cell_type": "code",
   "execution_count": null,
   "id": "36901f01",
   "metadata": {},
   "outputs": [],
   "source": [
    "# Ejemplo:\n",
    "\n",
    "a = \"1234567890ABCDEF\"\n",
    "print(a)\n",
    "print(a[1:3])\n",
    "print(a[::2])\n",
    "print(a[::-2])\n",
    "print(a[::-1])"
   ]
  },
  {
   "cell_type": "markdown",
   "id": "4e16c59a",
   "metadata": {},
   "source": [
    "<hr/>\n",
    "\n",
    "## Módulos en Python"
   ]
  },
  {
   "cell_type": "code",
   "execution_count": null,
   "id": "7d30b7e8",
   "metadata": {},
   "outputs": [],
   "source": [
    "import pprint\n",
    "pprint.pprint(quijote)"
   ]
  },
  {
   "cell_type": "code",
   "execution_count": null,
   "id": "fa408e57",
   "metadata": {},
   "outputs": [],
   "source": [
    "from pprint import pprint as pp\n",
    "pp(quijote)"
   ]
  },
  {
   "cell_type": "markdown",
   "id": "8987d121",
   "metadata": {},
   "source": [
    "<hr/>\n",
    "\n",
    "# Expresiones regulares"
   ]
  },
  {
   "cell_type": "code",
   "execution_count": null,
   "id": "3bbca55f",
   "metadata": {},
   "outputs": [],
   "source": [
    "import re\n",
    "\n",
    "if re.search(\"Mancha\", quijote):\n",
    "    print(\"'Mancha' está en el Quijote\")\n",
    "else:\n",
    "    print(\"'Mancha' *no* está en el Quijote\")"
   ]
  },
  {
   "cell_type": "code",
   "execution_count": null,
   "id": "d18c050b",
   "metadata": {},
   "outputs": [],
   "source": [
    "if re.search(\"mancha\", quijote):\n",
    "    print(\"'mancha' está en el Quijote\")\n",
    "else:\n",
    "    print(\"'mancha' *no* está en el Quijote\")"
   ]
  },
  {
   "cell_type": "code",
   "execution_count": null,
   "id": "4fff89e9",
   "metadata": {},
   "outputs": [],
   "source": [
    "if re.search(\"mancha\", quijote, re.IGNORECASE):\n",
    "    print(\"'mancha' está en el Quijote\")\n",
    "else:\n",
    "    print(\"'mancha' *no* está en el Quijote\")"
   ]
  },
  {
   "cell_type": "code",
   "execution_count": null,
   "id": "468c9aa2",
   "metadata": {},
   "outputs": [],
   "source": [
    "print(re.sub(\"y\", \"ɣ\", quijote))"
   ]
  },
  {
   "cell_type": "code",
   "execution_count": null,
   "id": "ea5805f0",
   "metadata": {},
   "outputs": [],
   "source": [
    "print(re.sub(\" \", \"_\", quijote))"
   ]
  },
  {
   "cell_type": "code",
   "execution_count": null,
   "id": "892075df",
   "metadata": {},
   "outputs": [],
   "source": [
    "print(re.sub(r\"\\by\\b\", \"ɣ\", quijote))"
   ]
  },
  {
   "cell_type": "markdown",
   "id": "59b5b0b5",
   "metadata": {},
   "source": [
    "## Sintaxis de las expresiones regulares\n",
    "\n",
    "https://docs.python.org/3/library/re.html"
   ]
  },
  {
   "cell_type": "code",
   "execution_count": null,
   "id": "55c8822e",
   "metadata": {},
   "outputs": [],
   "source": []
  }
 ],
 "metadata": {
  "interpreter": {
   "hash": "e7370f93d1d0cde622a1f8e1c04877d8463912d04d973331ad4851f04de6915a"
  },
  "kernelspec": {
   "display_name": "Python 3 (ipykernel)",
   "language": "python",
   "name": "python3"
  },
  "language_info": {
   "codemirror_mode": {
    "name": "ipython",
    "version": 3
   },
   "file_extension": ".py",
   "mimetype": "text/x-python",
   "name": "python",
   "nbconvert_exporter": "python",
   "pygments_lexer": "ipython3",
   "version": "3.10.6"
  }
 },
 "nbformat": 4,
 "nbformat_minor": 5
}
