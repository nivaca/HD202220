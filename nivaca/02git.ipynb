{
 "cells": [
  {
   "cell_type": "markdown",
   "id": "3b8e6153",
   "metadata": {},
   "source": [
    "# Herramientas digitales 2022-20\n",
    "## Texto digital\n",
    "## Introducción a Git y a GitHub\n",
    "## [Nicolás Vaughan](https://posgradosfacartes.uniandes.edu.co/miembro/nicolas-vaughan-caro/)\n"
   ]
  },
  {
   "cell_type": "markdown",
   "id": "e1c9991c",
   "metadata": {},
   "source": [
    "<div style=\"background-color: green\"><br/></div>"
   ]
  },
  {
   "cell_type": "markdown",
   "id": "aa923650",
   "metadata": {},
   "source": [
    " ## Configuración inicial\n",
    " \n",
    " ### Usuario\n",
    " ```sh\n",
    " git config --global user.name \"John Doe\"\n",
    " git config --global user.email johndoe@example.com\n",
    " ```\n",
    " \n",
    " ### Nombre de la rama principal\n",
    " ```sh\n",
    " git config --global init.defaultBranch main\n",
    " ```\n",
    " (normalmente es `master` o `main`)\n",
    " \n",
    " \n",
    " ### Para verificar la configuración\n",
    " ```sh\n",
    " git config --list\n",
    " ```\n",
    " \n",
    " ### Notas\n",
    " 1. Para hacer local (a un repositorio determinado) la configuración, simplemente reemplazar el parámetro `--global` por `--local`.\n",
    " 2. Para ver ayuda sobre configuración: `man git config` (en general: `man git`, `man git add`, etc.) (`man` es el sistema de ayuda en el terminal para Linux/Mac y, si instalaron Bash y otro shell, para Windows también)."
   ]
  },
  {
   "cell_type": "markdown",
   "id": "a7d9e8e3",
   "metadata": {},
   "source": [
    "## Crear un repositorio nuevo\n",
    "Dentro del directorio que quieren que hospede el repositorio actual (vacío o no):\n",
    "```sh\n",
    "git init\n",
    "```\n",
    "\n",
    "Luego pueden añadir todos o algunos archivos al primer nivel (*staging*):\n",
    "\n",
    "- `git add midocumento.txt` añade `midocumento.txt` \n",
    "- `git add *.xml` añade todos los archivo con extensión `.xml`\n",
    "\n",
    "#### Para añadir todos los archivos:\n",
    "\n",
    "- `git add .` ⇒ añade todos los archivos del directorio actual\n",
    "- `git add -A` (o equivalentemente `git add --all`) ⇒ añade todos los archivos del directorio actual y de los directorios superiores en el repositorio\n",
    "\n",
    "Para la diferencia entre esos dos comandos, ver [aquí](https://github.com/git-guides/git-add#deciding-to-stage-all-files=).\n",
    "\n",
    "\n",
    "### Finalmente hacen el *commit* inicial:\n",
    "```sh\n",
    "git commit -m \"primer commit\"\n",
    "```"
   ]
  },
  {
   "cell_type": "markdown",
   "id": "860e87de",
   "metadata": {},
   "source": [
    "## Ver el estado del repositorio\n",
    "\n",
    "- `git status` nos muestra los archivos cambiados en el nivel de *staging* (es decir, los archivos nuevos o cambiados que aún no han entrado en un nuevo *commit*)\n",
    "\n",
    "\n",
    "- `git log` nos muestra los últimos *commits*\n",
    "    - `git log --oneline` (versión resumida)\n",
    "\n",
    "(para salir de esa pantalla, presionen `q`)\n",
    "\n",
    "\n",
    "- `git diff` nos muestra las diferencias de archivos antes de la etapa de *staging* (es decir, si se han cambiado archivos y aún *no* han sido agregados con `git add`) ([más información aquí](https://www.atlassian.com/git/tutorials/saving-changes/git-diff))\n",
    "\n",
    "    - También podemos ver las diferencias entre dos *commits*:\n",
    "```sh\n",
    "git diff 6a0dc00 729600d\n",
    "```"
   ]
  },
  {
   "cell_type": "markdown",
   "id": "9ee39a15",
   "metadata": {},
   "source": [
    "## El flujo de trabajo\n",
    "- La idea es que ustedes van trabajando en la carpeta principial (o en sus subcarpetas: todo cae bajo Git, a menos que digan expresamente lo contrario): crear archivos, borrar archivos, editar archivos, etc.\n",
    "- Pueden ir añadiendo al *staging* de Git los archivos que quieran (`git add -A`, `git add tesis.md`, etc.) a medida que van trabajando.\n",
    "- Cuando quieran crear una \"instantánea\" del estado actual del repositorio, realicen el *commit*. E.g. `git commit -m \"Reemplazo variables en la función inicial\"`\n",
    "    - El mensaje debe ser suficientemente informativo para que ustedes sepan qué hicieron.\n",
    "    - Debe ser lo suficientemente largo, pero no excesivamente largo.\n",
    "    - Esto no: `git commit -m \"cambio\"`\n",
    "- Tengan en cuenta que si se quieren devolverse a un *commit* anterior, si quieren crear una nueva rama a partir de otro *commit*, etc., el *commit* que escojan tendrá todos los archivos cambiados en el momento de su creación. Es todo o nada. Por eso tiene que ser cuidadosos cuando añadan o eliminen archivos (`git add`) y luego creen sus *commits*.\n",
    "\n",
    "- Nota: `git commit -a -m \"mensaje\"` es un atajo para: `git add -A` y luego `git commit -m \"mensaje`."
   ]
  },
  {
   "cell_type": "markdown",
   "id": "c1437e9c",
   "metadata": {},
   "source": [
    "## Deshacer cambios en el *staging*  (antes de un *commit*)\n",
    "\n",
    "Archivo por archivo:\n",
    "```sh\n",
    "git restore miarchivo.txt\n",
    "```\n",
    "\n",
    "Limpiar el repositorio en el estado anterior (en el *head* o último *commit*)\n",
    "\n",
    "```sh\n",
    "git stash\n",
    "git stash clear\n",
    "```\n",
    "\n",
    "(En realidad, `git stash` guarda los cambios hechos en un caché temporal, que luego puede traerse de nuevo con `git stash pop`.)"
   ]
  },
  {
   "cell_type": "markdown",
   "id": "7f6c6b37",
   "metadata": {},
   "source": [
    "# Cómo borrar archivos del repositorio\n",
    "\n",
    "```sh\n",
    "git rm miarchivo.txt\n",
    "```\n",
    "\n",
    "👉 Es decir que meramente hacer esto **no es suficiente**:\n",
    "```sh\n",
    "rm miarchivo.txt\n",
    "git add -A\n",
    "git commit -m \"borré miarchivo.txt\"\n",
    "```\n",
    " "
   ]
  },
  {
   "cell_type": "markdown",
   "id": "b3489b2d",
   "metadata": {},
   "source": [
    "## Cambiarse a un *commit* determinado\n",
    "```sh\n",
    "git checkout <id del commit>\n",
    "```\n",
    "\n",
    "Por ejemplo:\n",
    "\n",
    "```sh\n",
    "git checkup d98006cd94958b7b31ddc44990411696314b77c5\n",
    "```\n",
    "\n",
    "Para saber el *hash* (el número) de un *commit* se puede ver el historial con `git log --oneline`\n",
    "(dependiendo de su configuración, pueden presionar la tecla `<tab>` para ver la lista de *commits* y seleccionarlo)."
   ]
  },
  {
   "cell_type": "markdown",
   "id": "9e580973",
   "metadata": {},
   "source": [
    "## Devolverse un *commit*\n",
    "\n",
    "```sh\n",
    "# 1. Identificamos cuál es el commit al que queremos ir:\n",
    "git log --oneline\n",
    "\n",
    "# 2. Si queremos revisar que ese sea el que queremos, podemos devolvernos temporalmente:\n",
    "git checkup d98006cd94958b7b31ddc44990411696314b77c5\n",
    "\n",
    "# 3. Si queremos hacer el cambio permanente:\n",
    "git reset d98006cd94958b7b31ddc44990411696314b77c5 --hard\n",
    "```\n",
    "---\n",
    "\n",
    "Si lo que queremos es devolvernos al *commit* inmediatamente anterior:\n",
    "\n",
    "```sh\n",
    "git reset HEAD^ --hard\n",
    "```\n",
    "\n",
    "- `HEAD` es el nombre del *commit* cual (es decir, el estado actual del repositorio en la historial de *commits*). Por lo general es el último *commit*, a menos que nos hayamos devuelto a otro anterior. (Más exactamente, `HEAD` apunta al *commit* actual de la rama actual.)\n",
    "\n",
    "- `HEAD^` (o equivalentemente `HEAD^1` es el *commit* anterior (uno detrás) del actual; `HEAD^2` estará dos posiciones detrás, etc.\n",
    "\n",
    "<br/>\n",
    "\n",
    "- Por otro lado, `git reset <commit>` define como `HEAD` el *commit* elegido, eliminando toda la historia posterior (los *commits* que vienen luego en la historia). El parámetro `--hard` cambia el estado actual de los archivos, mientras que el parámetro `--soft` solo cambia el repositorio.\n"
   ]
  },
  {
   "cell_type": "markdown",
   "id": "464e3189",
   "metadata": {},
   "source": [
    "## Ramas\n",
    "\n",
    "### Creación\n",
    "\n",
    "```sh\n",
    "git branch <nombre de la nueva rama>\n",
    "```\n",
    "\n",
    "### Cambiar de rama\n",
    "\n",
    "```sh\n",
    "git switch <nombre de la rama>\n",
    "```\n",
    "\n",
    "(Nota: antes de Git v.2.23, en lugar de `switch` era `checkout`.)\n",
    "\n",
    "### Crear y cambiar en un solo paso\n",
    "\n",
    "```sh\n",
    "git switch -c <nombre de la nueva rama>\n",
    "```\n",
    "\n",
    "### Eliminar una rama\n",
    "Estando en otra rama:\n",
    "\n",
    "```sh\n",
    "git branch -d <nombre de la rama>\n",
    "```\n",
    "\n",
    "\n",
    "### Ver las ramas\n",
    "#### Locales\n",
    "```sh\n",
    "git branch\n",
    "```\n",
    "#### Remotas\n",
    "```sh\n",
    "git branch -r\n",
    "```\n",
    "#### Todas\n",
    "```sh\n",
    "git branch -a\n",
    "```\n",
    "\n",
    "### Unir (*merge*) ramas\n",
    "Desde la rama que se desea que tome todos los *commits* de la otra:\n",
    "```sh\n",
    "git merge <nombre de la otra rama>\n",
    "```\n",
    "\n",
    "#### Por ejemplo:\n",
    "- Hemos hecho cambios en la rama \"pruebas\". Entonces nos cambiamos: `git switch main`\n",
    "- Luego: `git merge prueba`\n",
    "- Si queremos, podemos borrar la anterior: `git branch -d pruebas`"
   ]
  },
  {
   "cell_type": "markdown",
   "id": "2c36554d",
   "metadata": {},
   "source": [
    "<div style=\"background-color: green\"><br/></div>"
   ]
  },
  {
   "cell_type": "markdown",
   "id": "82588834",
   "metadata": {},
   "source": [
    "# Trabajando con GitHub (o GitLab, o...)\n"
   ]
  },
  {
   "cell_type": "markdown",
   "id": "5e41fcf7",
   "metadata": {},
   "source": [
    "## Clonar localmente un repositorio de Github\n",
    "```sh\n",
    "git clone https://github.com/nivaca/hd2022-20/\n",
    "```"
   ]
  },
  {
   "cell_type": "markdown",
   "id": "5fbdd9ca",
   "metadata": {},
   "source": [
    "### Si tienen permisos de escritura:\n",
    "\n",
    "Podrán trabajar localmente y cuando quieran \"subir\" (*push*) sus cambios:\n",
    "```sh \n",
    "git push\n",
    "```\n",
    "\n",
    "Más completo:\n",
    "```sh \n",
    "git push -u origin <nombre de la rama a la que van a subir el commit>\n",
    "```"
   ]
  },
  {
   "cell_type": "markdown",
   "id": "34e995d5",
   "metadata": {},
   "source": [
    "## Si no tienen permisos de escritura:\n",
    "\n",
    "- Desde GitHub (GitLab, etc.), pueden hacer una derivación (*fork*) del repositorio ajeno.\n",
    "- Luega crean una copia local de su *fork* (con `git clone`).\n",
    "- Una vez hayan subido sus cambios en GitHub a su propio *fork*, desde ahí solicitan un *pull request* (PR).\n",
    "- El dueño del repositorio podrá aceptar o rechazar el PR.\n",
    "\n",
    "** Esta es la forma más segura de trabajar colaborativamente con GitHub (GitLab, etc.) **"
   ]
  }
 ],
 "metadata": {
  "kernelspec": {
   "display_name": "Python 3",
   "language": "python",
   "name": "python3"
  },
  "language_info": {
   "codemirror_mode": {
    "name": "ipython",
    "version": 3
   },
   "file_extension": ".py",
   "mimetype": "text/x-python",
   "name": "python",
   "nbconvert_exporter": "python",
   "pygments_lexer": "ipython3",
   "version": "3.10.4"
  }
 },
 "nbformat": 4,
 "nbformat_minor": 5
}
