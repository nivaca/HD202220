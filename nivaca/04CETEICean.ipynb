{
 "cells": [
  {
   "cell_type": "markdown",
   "id": "76c70e6f",
   "metadata": {},
   "source": [
    "# Herramientas digitales 2022-10\n",
    "## Texto digital\n",
    "## Introducción a CETEIcean\n",
    "## [Nicolás Vaughan](https://posgradosfacartes.uniandes.edu.co/miembro/nicolas-vaughan-caro/)\n",
    "\n",
    "---"
   ]
  },
  {
   "cell_type": "markdown",
   "id": "94917823",
   "metadata": {},
   "source": [
    "<!--\n",
    "# Instrucciones\n",
    "\n",
    "- Descarguen el archivo [clase.zip](https://github.com/nivaca/hd202210/raw/main/nivaca/assets/clase.zip) y descomprímanlo en algún lugar en su computador.\n",
    "- El contenido de ese archivo es:\n",
    "```\n",
    "├── cortazar.xml\n",
    "├── css\n",
    "│   └── tei.css\n",
    "├── index.html\n",
    "└── js\n",
    "    └── CETEI.js\n",
    "```\n",
    "-->"
   ]
  },
  {
   "cell_type": "markdown",
   "id": "94917823",
   "metadata": {},
   "source": [
    "# Instrucciones\n",
    "\n",
    "- Entren a GitHub y loguéense con sus datos (usuario y clave).\n",
    "- Vayan a este repositorio: https://github.com/nivaca/CETEIcean-cort\n",
    "- Hagan un \"fork\" del repositorio, es decir, una copia propia de ese repositorio en su cuenta. Para ello hagan click en el botón que dice \"Fork\", arriba a la derecha:\n",
    "\n",
    "![fork](img/fork.png)\n",
    "\n",
    "- Ahora clonen ese nuevo repositorio en su computador. Estando en la página del \"fork\" recién creado, hagan click en el botón que dice \"Code\" y luego copien esa dirección:\n",
    "\n",
    "![clone](img/clone.png)\n",
    "\n",
    "Usando esa dirección (que debe contener su nombre de usuario), ahora pueden clonarlo en su computador:\n",
    "\n",
    "```sh\n",
    "cd ~/Downloads\n",
    "git clone https://github.com/<usuario>/CETEIcean-cort.git\n",
    "cd CETEIcean-cort\n",
    "```\n",
    "\n",
    "- Una vez adentro, tecleen `tree` en la línea de comando y verán lo siguiente:\n",
    "\n",
    "```\n",
    "├── cortazar.xml\n",
    "├── css\n",
    "│   └── tei.css\n",
    "├── index.html\n",
    "└── js\n",
    "    └── CETEI.js\n",
    "```"
   ]
  },
  {
   "cell_type": "markdown",
   "id": "25b5fbd4",
   "metadata": {},
   "source": [
    "Abramos VS Code en esa carpeta:\n",
    "\n",
    "```sh\n",
    "code .\n",
    "```\n",
    "\n",
    "y ahora abramos el archivo `cortazar.xml`."
   ]
  },
  {
   "cell_type": "markdown",
   "id": "be1fdfb9",
   "metadata": {},
   "source": [
    "El archivo `cortazar.xml` es básicamente el mismo que hicimos en la clase pasada, con un cambio en la línea 37:\n",
    "\n",
    "```xml\n",
    "<head type=\"title\">Manicomio</head>\n",
    "```\n",
    "\n",
    "El cambios es la inclusión de un atributo `type` con el valor `title`. El atributo `type` en TEI es en cierto modo análogo al atributo `class` de HTML. Luego veremos cómo podemos aprovecharlo."
   ]
  },
  {
   "cell_type": "markdown",
   "id": "6783d221",
   "metadata": {},
   "source": [
    "Abramos ahora el archivo `index.html`. \n",
    "- La línea 7 indica que deberá incluirse la plantilla de estilos `tei.css` en el subdirectorio `css`. Más adelante vamos a trabajar sobre este.\n",
    "- La línea 8 indica que ha de cargarse la librería `CETEI.js`, que está en el subdirectorio `js`.\n",
    "- Nos interesa ahora la línea 11. Esa es la instrucción que carga nuestro documento TEI.\n",
    "- Pongan ahí el nombre completo del documento: `cortazar.xml`. Quedaría así esa línea:\n",
    "\n",
    "```JS\n",
    "c.getHTML5('cortazar.xml', function(data) {\n",
    "\n",
    "```\n",
    "\n",
    "- No tenemos que hacer nada más en `index.html`.\n"
   ]
  },
  {
   "cell_type": "markdown",
   "id": "4cb9b448",
   "metadata": {},
   "source": [
    "Ahora vamos a abrir mostrar el contenido del documento TEI en nuestro navegador.\n",
    "\n",
    "Sin embargo, eso **no** podemos hacerlo directamente abriendo ni `cortazar.xml` ni `index.html` en el navegador, puesto que requerimos que se ejecute el código de la librería JS. Para eso necesitamos crear un servidor que nos \"sirva\" el código en el navegador.\n",
    "\n",
    "Para ello usamos el servidor de Python:\n",
    "\n",
    "```sh\n",
    "python3 -m http.server\n",
    "```\n",
    "\n",
    "o si instalaron el de Node JS:\n",
    "\n",
    "```sh\n",
    "live-server\n",
    "```\n",
    "\n",
    "Automáticamente deberá cargarse la página en su navegadar. Si no lo hizo, tomen nota de qué dirección se creó:\n",
    "\n",
    "- en Python:\n",
    "```sh\n",
    "Serving HTTP on 0.0.0.0 port 8000 (http://0.0.0.0:8000/) ...\n",
    "```\n",
    "Abran la dirección `http://0.0.0.0:8000/` en su navegador (Firefox o Chrome).\n",
    "\n",
    "- en Node JS:\n",
    "```sh\n",
    "Serving \"/home/nivaca/Downloads/CETICEAN-cort\" at http://127.0.0.1:8080\n",
    "Ready for changes\n",
    "```\n",
    "Abran la dirección `http://127.0.0.1:8080` en su navegador (Firefox o Chrome).\n"
   ]
  },
  {
   "cell_type": "markdown",
   "id": "4cb9b448",
   "metadata": {},
   "source": [
    "Vamos a inspeccionar la estructura del documento con ayuda de las herramientas de nuestro navegador.\n",
    "\n",
    "Para hacerlo, presionen la tecla `F12` de su teclado (es posible que deban presionarla al tiempo con la tecla `Fn`). También pueden hacer click derecho con el mouse en un lugar de la ventana del navegador que no tenga texto y seleccionen la opción `Inspect` del menú."
   ]
  },
  {
   "cell_type": "markdown",
   "id": "4cb9b448",
   "metadata": {},
   "source": []
  },
  {
   "cell_type": "markdown",
   "id": "4cb9b448",
   "metadata": {},
   "source": []
  },
  {
   "cell_type": "markdown",
   "id": "4cb9b448",
   "metadata": {},
   "source": []
  },
  {
   "cell_type": "markdown",
   "id": "4cb9b448",
   "metadata": {},
   "source": []
  }
 ],
 "metadata": {
  "interpreter": {
   "hash": "e7370f93d1d0cde622a1f8e1c04877d8463912d04d973331ad4851f04de6915a"
  },
  "kernelspec": {
   "display_name": "Python 3.10.4 64-bit",
   "language": "python",
   "name": "python3"
  },
  "language_info": {
   "codemirror_mode": {
    "name": "ipython",
    "version": 3
   },
   "file_extension": ".py",
   "mimetype": "text/x-python",
   "name": "python",
   "nbconvert_exporter": "python",
   "pygments_lexer": "ipython3",
   "version": "3.10.4"
  }
 },
 "nbformat": 4,
 "nbformat_minor": 5
}
