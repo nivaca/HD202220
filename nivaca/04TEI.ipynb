{
 "cells": [
  {
   "cell_type": "markdown",
   "id": "b5cf1cbd",
   "metadata": {},
   "source": [
    "# Herramientas digitales 2022-20\n",
    "## Texto digital\n",
    "## Introducción a TEI\n",
    "## [Nicolás Vaughan](https://posgradosfacartes.uniandes.edu.co/miembro/nicolas-vaughan-caro/)\n",
    "\n",
    "---"
   ]
  },
  {
   "cell_type": "markdown",
   "id": "383cd3ab",
   "metadata": {},
   "source": [
    "# Instrucciones\n",
    "\n",
    "Vamos a codificar la carta Frida Kahlo a Alejandro Gómez Arias, [aquí](https://artsandculture.google.com/asset/carta-de-frida-kahlo-a-alejandro-g%C3%B3mez-arias-21-de-agosto-de-1926/qwEa2eAqgaAirA?hl=es-419)."
   ]
  },
  {
   "cell_type": "markdown",
   "id": "3aa1a3fe",
   "metadata": {},
   "source": [
    "En Oxygen XML Editor (el del ícono azul) creen un documento TEI P5 nuevo:\n",
    "![oxygen](img/oxygen01.png)"
   ]
  },
  {
   "cell_type": "markdown",
   "id": "37f2164c",
   "metadata": {},
   "source": [
    "<!--\n",
    "## Conclusión\n",
    "\n",
    "[Aquí](CartaFridaKahlo.xml) pueden ver el resultado de la codificación hecha en clase.\n",
    "-->"
   ]
  },
  {
   "cell_type": "markdown",
   "id": "c545d2c0",
   "metadata": {},
   "source": [
    "## Recursos de consulta\n",
    "- Documentación de la versión [TEI](https://tei-c.org/guidelines/p5/)\n",
    "  - [Apéndice C: Elementos](https://tei-c.org/release/doc/tei-p5-doc/en/html/REF-ELEMENTS.html)\n",
    "- [TEI by Example](https://teibyexample.org/TBE.htm)"
   ]
  },
  {
   "cell_type": "markdown",
   "id": "3e11b3a9",
   "metadata": {},
   "source": [
    "# Tarea\n",
    "- Codifiquen en TEI, teniendo en cuenta los estándares de la versión [P5](https://tei-c.org/guidelines/p5/), la segunda página (manuscrita) del texto *La pájara en el ojo ajeno* de Alejandra Pizarnik (abajo a la derecha) [aquí](https://cvc.cervantes.es/literatura/libros_cortazar/libros_firmados04.htm).\n",
    "- Asegúrense de que el documento sea válido (con las herramienta de validación de Oxygen XML).\n",
    "- Entreguen únicamente documento TEI, que deberá quedar en su carpeta personal en el repositorio del curso, en una carpeta llamada `tarea02`. El nombre del documento debe ser: `Tarea02_Apellido_Nombre.xml`.\n",
    "- Plazo de entrega: **viernes 29 de octubre, 5:00pm**. Después de ese momento no recibiré trabajos."
   ]
  },
  {
   "cell_type": "code",
   "execution_count": null,
   "id": "3aa456bf",
   "metadata": {},
   "outputs": [],
   "source": []
  }
 ],
 "metadata": {
  "kernelspec": {
   "display_name": "Python 3.10.6 64-bit",
   "language": "python",
   "name": "python3"
  },
  "language_info": {
   "codemirror_mode": {
    "name": "ipython",
    "version": 3
   },
   "file_extension": ".py",
   "mimetype": "text/x-python",
   "name": "python",
   "nbconvert_exporter": "python",
   "pygments_lexer": "ipython3",
   "version": "3.10.6"
  },
  "vscode": {
   "interpreter": {
    "hash": "e7370f93d1d0cde622a1f8e1c04877d8463912d04d973331ad4851f04de6915a"
   }
  }
 },
 "nbformat": 4,
 "nbformat_minor": 5
}
