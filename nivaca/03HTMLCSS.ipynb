{
 "cells": [
  {
   "cell_type": "markdown",
   "id": "76c70e6f",
   "metadata": {},
   "source": [
    "# Herramientas digitales 2022-20\n",
    "## Texto digital\n",
    "## Introducción a la línea de comandos y a markdown\n",
    "## [Nicolás Vaughan](https://posgradosfacartes.uniandes.edu.co/miembro/nicolas-vaughan-caro/)\n",
    "\n",
    "---"
   ]
  },
  {
   "cell_type": "markdown",
   "id": "cac8ef62",
   "metadata": {},
   "source": [
    "# Una plantilla mínima de HTML5\n",
    "\n",
    "```html\n",
    "<!DOCTYPE html>\n",
    "<html>\n",
    "  <head>\n",
    "    <title></title>\n",
    "  </head>\n",
    "  <body></body>\n",
    "</html>\n",
    "```\n",
    "\n",
    "\n",
    "Cópienla y péguenla en un nuevo documento en VS Code. Guárdenlo con cualquier nombre con extensión `.html`.\n"
   ]
  },
  {
   "cell_type": "markdown",
   "id": "f77cff90",
   "metadata": {},
   "source": [
    "# Aclaración de términos\n",
    "\n",
    "- Un **elemento** de HTML (y de XML) es una manera formal de marcar que cierto contenido tiene cierta significación.\n",
    "\n",
    "- Todo elemento tiene dos **etiquetas** (*tags*), una de apertura y otra de cierre, p. ej.:\n",
    "    ```html\n",
    "    <p></p>\n",
    "    ```\n",
    "\n",
    "- El **contenido** de un elemento es todo lo que va entre sus dos etiquetas, p. ej.:\n",
    "```html\n",
    "<p>Este es el contenido de este elemento</p>\n",
    "```\n",
    "\n",
    "- Los elementos *pueden* tener uno o más **atributos**, esto es, información adicional sobre su significado o representación (no sobre su contenido), p. ejemplo:\n",
    "\n",
    "```html\n",
    "<p class=\"parr-sangrado\">...</p>\n",
    "\n",
    "<q id=\"epígrafe\">...</q>\n",
    "\n",
    "<div style=\"background-color: green;\">...</div>\n",
    "\n",
    "<span class=\"números\" id=\"margen\">...</span>\n",
    "```\n",
    "\n",
    "- Noten que los atributos de HTML siempre son de la forma: `nombre=\"valor\"` y van separados de otros atributos por un espacio en blanco (` `).\n",
    "\n",
    "- Los *atributos de HTML* no se deben confudir con las *propiedades de CSS*. Comparen: \n",
    "    - `id=\"epígrafe\"`  (atributo HTML)\n",
    "    - `background-color: green;` (propiedad CSS)"
   ]
  },
  {
   "cell_type": "markdown",
   "id": "3cee4e8f",
   "metadata": {},
   "source": [
    "# Dos reglas formales\n",
    "\n",
    "1. Todo elemento que abran deben cerrarlo, p. ej.\n",
    "\n",
    "```html\n",
    "<div>\n",
    "    ...\n",
    "    <p>\n",
    "         ...\n",
    "        <q>\n",
    "            ...\n",
    "        </q>\n",
    "        ...\n",
    "    </p>\n",
    "    ...\n",
    "</div>\n",
    "```\n",
    "\n",
    "2. No deben cruzar contextos de elementos. Esto es un error, p. ej.:\n",
    "```html\n",
    "<p>\n",
    "        <q>\n",
    "</p>\n",
    "        </q>\n",
    "```\n",
    "\n",
    "Nota: hay algunos elementos de \"de autocerrado\", es decir, que no tienen contenido y por lo tanto se pueden abreviar:\n",
    "\n",
    "- `<br></br>` ⇒ `<br/>` (salto de línea)\n",
    "- `<hr></hr>` ⇒ `<hr/>` (línea horizontal)"
   ]
  },
  {
   "cell_type": "markdown",
   "id": "682607b6",
   "metadata": {},
   "source": [
    "# Dos tipos básicos de elementos estructurales\n",
    "\n",
    "## En línea\n",
    "- *No* ocupan todo el ancho de la página sino restringen a su espacio horizontal en la línea.\n",
    "- `<span>` es el más conocido y usado, pero en general todos elementos que cambian la fuente son de este tipo (y muchos otros).\n",
    "\n",
    "\n",
    "## En bloque\n",
    "- Ocupan todo el ancho de la página.\n",
    "- Los ejemplos más frecuentes son `<div>` (división estructural) y `<p>` (párrafo). "
   ]
  },
  {
   "cell_type": "markdown",
   "id": "e1f89d9d",
   "metadata": {},
   "source": [
    "## Comentarios en HTML\n",
    "```html\n",
    "<!-- esto es un comentario -->\n",
    "```"
   ]
  },
  {
   "cell_type": "markdown",
   "id": "bb90cda4",
   "metadata": {},
   "source": [
    "# Algunas equivalencias\n",
    "\n",
    "![equivalencias](img/equivhtmlmd.png)"
   ]
  },
  {
   "cell_type": "markdown",
   "id": "3f1b2886",
   "metadata": {},
   "source": [
    "# Estilos\n",
    "\n",
    "Es posible cambiar el estilo de un elemento (y por extensión de todos sus descendientes) con el atributo `style`. El valor de `style` es una lista de propiedades CSS separadas por punto y comas.\n",
    "\n",
    "```html\n",
    "<body style=\"background-color: lightblue; background-image: url(\"paper.gif\");\">\n",
    "  ...\n",
    "</body>  \n",
    "```\n"
   ]
  },
  {
   "cell_type": "markdown",
   "id": "d2614ff7",
   "metadata": {},
   "source": [
    "# CSS (Cascading Style Sheets, Holas de estilo en cascada)\n",
    "\n",
    "## Separación de contenido (HTML) y formato (CSS)\n",
    "\n",
    "### `mipágina.html`\n",
    "\n",
    "```html\n",
    "<!DOCTYPE html>\n",
    "<html>\n",
    "  <head>\n",
    "    <title></title>\n",
    "    <link rel=\"stylesheet\" href=\"misestilos.css\">  \n",
    "  </head>\n",
    "  <body>\n",
    "  </body>\n",
    "</html>\n",
    "```\n",
    "\n",
    "###  `misestilos.css`\n",
    "\n",
    "```css\n",
    "body {\n",
    "  background-color: lightblue; \n",
    "  background-image: url(\"paper.gif\");\n",
    "}\n",
    "```"
   ]
  },
  {
   "cell_type": "markdown",
   "id": "6c8caaf3",
   "metadata": {},
   "source": [
    "# Tipos de selectores de CSS\n",
    "\n",
    "## 1. Con el atributo `style`\n",
    "\n",
    "En el HTML:\n",
    "```html\n",
    "<body style=\"background-color:powderblue;\">...</body>\n",
    "```\n",
    "\n",
    "## 2. Con identificadores únicos (`id`)\n",
    "\n",
    "En el CSS, empiezan con `#`:\n",
    "\n",
    "```css\n",
    "#mi-encabezado {\n",
    "  font-family: Verdana, Helvetica, sans-serif;\n",
    "}\n",
    "```\n",
    "\n",
    "En el HTML:\n",
    "\n",
    "```html\n",
    "<h1 id=\"mi-encabezado\">...</h1>\n",
    "```\n",
    "\n",
    "## 3. Con clases\n",
    "En el CSS, empiezan con `.`:\n",
    "```css\n",
    ".encabezado-grande {\n",
    "  font-size: 150%;\n",
    "  font-weight: bold;\n",
    "  }\n",
    "```\n",
    "En el HTML:\n",
    "```html\n",
    "<h1 class=\"encabezado-grande\">...</h1>\n",
    "<section class=\"encabezado-grande\">...</section>\n",
    "<p class=\"encabezado-grande\">...</p>\n",
    "```\n",
    "\n",
    "## 4. Con tipos (de elementos)\n",
    "En el CSS:\n",
    "```css\n",
    "h2 {\n",
    "  background: lightpink;\n",
    "  margin: 100px;\n",
    "  border-color: black;\n",
    "  border: 5px;\n",
    "  padding: 30px;\n",
    "}\n",
    "```\n",
    "En el HTML:\n",
    "```html\n",
    "<h2>...</h2>\n",
    "```\n",
    "\n",
    "\n",
    "## 4.1 Con tipos + clases\n",
    "En el CSS:\n",
    "```css\n",
    "h1.encabezado-grande {\n",
    "  font-size: 150%;\n",
    "  font-weight: bold;\n",
    "  }\n",
    "```\n",
    "En el HTML:\n",
    "```html\n",
    "<h1 class=\"encabezado-grande\">...</h1>\n",
    "<h2 class=\"encabezado-grande\">...</h2>\n",
    "<h1 class=\"otra\">...</h1>\n",
    "```\n",
    "\n",
    "---\n",
    "\n",
    "Para más detalles, cf. https://www.w3schools.com/cssref/css_selectors.asp"
   ]
  },
  {
   "cell_type": "markdown",
   "id": "7ba7dc83",
   "metadata": {},
   "source": [
    "### Referencia para CSS\n",
    "\n",
    "- https://www.w3schools.com/cssref/default.asp\n",
    "- https://cssreference.io/\n",
    "- https://developer.mozilla.org/en-US/docs/Web/CSS/Reference\n",
    "  - https://developer.mozilla.org/es/docs/Web/CSS/Reference"
   ]
  },
  {
   "cell_type": "markdown",
   "id": "31829e99",
   "metadata": {},
   "source": []
  },
  {
   "cell_type": "markdown",
   "id": "f5aff0b0",
   "metadata": {},
   "source": []
  },
  {
   "cell_type": "markdown",
   "id": "b2746941",
   "metadata": {},
   "source": [
    "# Ejercicio en clase\n",
    "\n",
    "Usando [esta plantilla](assets/plantilla.html) de HTML, creemos una breve página web con esto:\n",
    "\n",
    "- Un título centrado y en negritas (creen un `<div>` de una clase llamada `título` y creen un selector para ella en un CSS externo; para saber cómo centrar el texto, véan [aquí](https://www.w3.org/Style/Examples/007/center.en.html)) \n",
    "- Tres (3) secciones diferentes (del mismo nivel: h1), cada una con tres (3) párrafos diferentes (tomen el contenido de [aqui](https://www.lipsum.com/))\n",
    "- Varios textos en negrita y en cursiva (al menos dos de cada uno)\n",
    "- Un enlace a una página web\n",
    "- Una imagen local (descárguenla en su computador, en el mismo directorio donde está el documento)"
   ]
  }
 ],
 "metadata": {
  "kernelspec": {
   "display_name": "Python 3.10.6 64-bit",
   "language": "python",
   "name": "python3"
  },
  "language_info": {
   "codemirror_mode": {
    "name": "ipython",
    "version": 3
   },
   "file_extension": ".py",
   "mimetype": "text/x-python",
   "name": "python",
   "nbconvert_exporter": "python",
   "pygments_lexer": "ipython3",
   "version": "3.10.6"
  },
  "vscode": {
   "interpreter": {
    "hash": "e7370f93d1d0cde622a1f8e1c04877d8463912d04d973331ad4851f04de6915a"
   }
  }
 },
 "nbformat": 4,
 "nbformat_minor": 5
}
